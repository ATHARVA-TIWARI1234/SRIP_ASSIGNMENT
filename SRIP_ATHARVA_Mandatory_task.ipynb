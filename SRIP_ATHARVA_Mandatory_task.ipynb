{
  "nbformat": 4,
  "nbformat_minor": 0,
  "metadata": {
    "colab": {
      "provenance": []
    },
    "kernelspec": {
      "name": "python3",
      "display_name": "Python 3"
    },
    "language_info": {
      "name": "python"
    }
  },
  "cells": [
    {
      "cell_type": "code",
      "execution_count": 27,
      "metadata": {
        "colab": {
          "base_uri": "https://localhost:8080/"
        },
        "id": "uWcyoul8dW7l",
        "outputId": "d85488f1-8eb5-489c-dd35-59444158d831"
      },
      "outputs": [
        {
          "output_type": "execute_result",
          "data": {
            "text/plain": [
              "['Final Data', '__MACOSX']"
            ]
          },
          "metadata": {},
          "execution_count": 27
        }
      ],
      "source": [
        "from zipfile import ZipFile\n",
        "import os\n",
        "\n",
        "# Define the path to the zip file and the extraction directory\n",
        "zip_file_path = '/Final Data.zip'\n",
        "extraction_dir = '/Data'\n",
        "# extraction_dir = '/Final Data'\n",
        "\n",
        "# Create a directory for the extracted files\n",
        "os.makedirs(extraction_dir, exist_ok=True)\n",
        "\n",
        "# Extract the zip file\n",
        "with ZipFile(zip_file_path, 'r') as zip_ref:\n",
        "    zip_ref.extractall(extraction_dir)\n",
        "\n",
        "# List the files in the extraction directory\n",
        "extracted_files = os.listdir(extraction_dir)\n",
        "extracted_files\n"
      ]
    },
    {
      "cell_type": "code",
      "source": [
        "# Define the path to the 'Final Data' folder\n",
        "final_data_dir = os.path.join(extraction_dir, 'Final Data')\n",
        "# final_data_dir = os.path.join(extraction_dir)\n",
        "\n",
        "# List the files and directories in the 'Final Data' folder\n",
        "final_data_contents = os.listdir(final_data_dir)\n",
        "final_data_contents\n"
      ],
      "metadata": {
        "colab": {
          "base_uri": "https://localhost:8080/"
        },
        "id": "5ki-4zJah5rf",
        "outputId": "7c7433cb-e6ab-4fd1-a57c-0d7236e151c5"
      },
      "execution_count": 28,
      "outputs": [
        {
          "output_type": "execute_result",
          "data": {
            "text/plain": [
              "['bee', 'antelope', 'badger', 'bat', 'bear', '.DS_Store']"
            ]
          },
          "metadata": {},
          "execution_count": 28
        }
      ]
    },
    {
      "cell_type": "code",
      "source": [
        "# Define the path to one of the class directories\n",
        "sample_class_dir = os.path.join(final_data_dir, 'bee')\n",
        "\n",
        "# List the first few files in the directory\n",
        "sample_files = os.listdir(sample_class_dir)\n",
        "sample_files[:5]\n"
      ],
      "metadata": {
        "colab": {
          "base_uri": "https://localhost:8080/"
        },
        "id": "Y7RGtgLSiO_O",
        "outputId": "03c9f568-0c2f-4625-f374-5cf2ace7329a"
      },
      "execution_count": 29,
      "outputs": [
        {
          "output_type": "execute_result",
          "data": {
            "text/plain": [
              "['517aca5da2.jpg',\n",
              " '160cdad8e6.jpg',\n",
              " '2afadcf34f.jpg',\n",
              " '5adc0a316b.jpg',\n",
              " '81c541cae0.jpg']"
            ]
          },
          "metadata": {},
          "execution_count": 29
        }
      ]
    },
    {
      "cell_type": "code",
      "source": [
        "pip install torch torchvision\n"
      ],
      "metadata": {
        "colab": {
          "base_uri": "https://localhost:8080/"
        },
        "id": "VscKhyKbiS-q",
        "outputId": "1fa51e83-d03b-4c01-b3f6-4aae6ce48ff2"
      },
      "execution_count": 7,
      "outputs": [
        {
          "output_type": "stream",
          "name": "stdout",
          "text": [
            "Requirement already satisfied: torch in /usr/local/lib/python3.10/dist-packages (2.1.0+cu121)\n",
            "Requirement already satisfied: torchvision in /usr/local/lib/python3.10/dist-packages (0.16.0+cu121)\n",
            "Requirement already satisfied: filelock in /usr/local/lib/python3.10/dist-packages (from torch) (3.13.1)\n",
            "Requirement already satisfied: typing-extensions in /usr/local/lib/python3.10/dist-packages (from torch) (4.10.0)\n",
            "Requirement already satisfied: sympy in /usr/local/lib/python3.10/dist-packages (from torch) (1.12)\n",
            "Requirement already satisfied: networkx in /usr/local/lib/python3.10/dist-packages (from torch) (3.2.1)\n",
            "Requirement already satisfied: jinja2 in /usr/local/lib/python3.10/dist-packages (from torch) (3.1.3)\n",
            "Requirement already satisfied: fsspec in /usr/local/lib/python3.10/dist-packages (from torch) (2023.6.0)\n",
            "Requirement already satisfied: triton==2.1.0 in /usr/local/lib/python3.10/dist-packages (from torch) (2.1.0)\n",
            "Requirement already satisfied: numpy in /usr/local/lib/python3.10/dist-packages (from torchvision) (1.25.2)\n",
            "Requirement already satisfied: requests in /usr/local/lib/python3.10/dist-packages (from torchvision) (2.31.0)\n",
            "Requirement already satisfied: pillow!=8.3.*,>=5.3.0 in /usr/local/lib/python3.10/dist-packages (from torchvision) (9.4.0)\n",
            "Requirement already satisfied: MarkupSafe>=2.0 in /usr/local/lib/python3.10/dist-packages (from jinja2->torch) (2.1.5)\n",
            "Requirement already satisfied: charset-normalizer<4,>=2 in /usr/local/lib/python3.10/dist-packages (from requests->torchvision) (3.3.2)\n",
            "Requirement already satisfied: idna<4,>=2.5 in /usr/local/lib/python3.10/dist-packages (from requests->torchvision) (3.6)\n",
            "Requirement already satisfied: urllib3<3,>=1.21.1 in /usr/local/lib/python3.10/dist-packages (from requests->torchvision) (2.0.7)\n",
            "Requirement already satisfied: certifi>=2017.4.17 in /usr/local/lib/python3.10/dist-packages (from requests->torchvision) (2024.2.2)\n",
            "Requirement already satisfied: mpmath>=0.19 in /usr/local/lib/python3.10/dist-packages (from sympy->torch) (1.3.0)\n"
          ]
        }
      ]
    },
    {
      "cell_type": "code",
      "source": [
        "import torch\n",
        "from torchvision import transforms\n",
        "from torchvision.io import read_image\n",
        "from torch.utils.data import Dataset, DataLoader, random_split\n",
        "import os\n",
        "import glob\n",
        "\n",
        "class OneVsRestDataset(Dataset):\n",
        "    def __init__(self, data_dir, target_class, transform=None):\n",
        "        \"\"\"\n",
        "        Args:\n",
        "            data_dir (string): Directory with all the images.\n",
        "            target_class (string): The class to be considered as '1' (positive class).\n",
        "            transform (callable, optional): Optional transform to be applied on a sample.\n",
        "        \"\"\"\n",
        "        self.data_dir = data_dir\n",
        "        self.target_class = target_class\n",
        "        self.transform = transform\n",
        "        self.samples = []\n",
        "        print(f\"Looking in directory: {data_dir}\")  # Debug print\n",
        "        if not os.path.exists(data_dir):\n",
        "            print(f\"Directory does not exist: {data_dir}\")\n",
        "            return\n",
        "\n",
        "        # Load all image file paths and their labels\n",
        "        for class_name in os.listdir(data_dir):\n",
        "            class_dir = os.path.join(data_dir, class_name)\n",
        "            if not os.path.isdir(class_dir):\n",
        "                continue  # Skip non-directory files\n",
        "            print(f\"Processing class directory: {class_name}\")\n",
        "            for img_path in glob.glob(os.path.join(class_dir, '*.jpg')):\n",
        "                # Label is 1 for the target class, and 0 for all other classes\n",
        "                label = 1 if class_name == target_class else 0\n",
        "                self.samples.append((img_path, label))\n",
        "\n",
        "        print(f\"Total samples loaded: {len(self.samples)}\")\n",
        "\n",
        "    def __len__(self):\n",
        "        return len(self.samples)\n",
        "\n",
        "    def __getitem__(self, idx):\n",
        "        img_path, label = self.samples[idx]\n",
        "        image = read_image(img_path)  # Load image\n",
        "        image = image.float() / 255.0  # Normalize to [0, 1]\n",
        "\n",
        "        if self.transform:\n",
        "            image = self.transform(image)\n",
        "\n",
        "        return image, label\n"
      ],
      "metadata": {
        "id": "Ra701r6Nibjh"
      },
      "execution_count": 19,
      "outputs": []
    },
    {
      "cell_type": "code",
      "source": [
        "print(f\"Total samples loaded: {len(dataset)}\")"
      ],
      "metadata": {
        "colab": {
          "base_uri": "https://localhost:8080/"
        },
        "id": "wcydnFnRjLCv",
        "outputId": "69e95a0c-c2d2-4f5a-d237-f57d145064ca"
      },
      "execution_count": 13,
      "outputs": [
        {
          "output_type": "stream",
          "name": "stdout",
          "text": [
            "Total samples loaded: 0\n"
          ]
        }
      ]
    },
    {
      "cell_type": "code",
      "source": [
        "# Define your transformations\n",
        "transform = transforms.Compose([\n",
        "    transforms.Resize((224, 224)),  # Resize to 224x224 for models like ResNet\n",
        "    transforms.Normalize(mean=[0.485, 0.456, 0.406], std=[0.229, 0.224, 0.225]),  # ImageNet norms\n",
        "])\n",
        "\n",
        "# Initialize the dataset\n",
        "dataset = OneVsRestDataset(data_dir='/Data/Final Data', target_class='bee', transform=transform)\n",
        "\n",
        "# Splitting the dataset for 3-fold cross-validation\n",
        "# fold_size = len(dataset) // 3\n",
        "# datasets = random_split(dataset, [fold_size, fold_size, len(dataset) - 2 * fold_size])\n",
        "if len(dataset) > 0:\n",
        "    fold_size = len(dataset) // 3\n",
        "    datasets = random_split(dataset, [fold_size, fold_size, len(dataset) - 2 * fold_size])\n",
        "    # You can now proceed with DataLoader initialization\n",
        "else:\n",
        "    print(\"No samples loaded. Please check the dataset path and contents.\")\n",
        "\n",
        "\n",
        "# Example: DataLoader for the first fold\n",
        "# train_loader = DataLoader(datasets[0], batch_size=32, shuffle=True)\n",
        "if len(datasets[0]) > 0:\n",
        "    train_loader = DataLoader(datasets[0], batch_size=32, shuffle=True)\n",
        "    # Do similarly for the other folds\n",
        "else:\n",
        "    print(\"The first fold is empty.\")\n",
        "\n"
      ],
      "metadata": {
        "colab": {
          "base_uri": "https://localhost:8080/"
        },
        "id": "AGiD-Vuhisq9",
        "outputId": "8bfce07a-0796-49e7-ce5f-52e51cb6b8db"
      },
      "execution_count": 30,
      "outputs": [
        {
          "output_type": "stream",
          "name": "stdout",
          "text": [
            "Looking in directory: /Data/Final Data\n",
            "Processing class directory: bee\n",
            "Processing class directory: antelope\n",
            "Processing class directory: badger\n",
            "Processing class directory: bat\n",
            "Processing class directory: bear\n",
            "Total samples loaded: 300\n"
          ]
        }
      ]
    }
  ]
}